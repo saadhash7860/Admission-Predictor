{
 "cells": [
  {
   "cell_type": "markdown",
   "id": "1b0741bc",
   "metadata": {},
   "source": [
    "####  The Problem statement:\n",
    "##### The goal here is to find the chance of admission of a candidate based on his/her GRE Score (out of 340), TOEFL Score (out of 120), rating of the University (out of 5) in which he/she is trying to get admission, Strength of the SOP (out of 5), strength of the Letter Of Recommendation (out of 5), CGPA (out of 10) and the research experience (0 or 1).\n",
    "\n",
    "\n",
    "\n"
   ]
  },
  {
   "cell_type": "code",
   "execution_count": 100,
   "id": "3fe1f954",
   "metadata": {},
   "outputs": [],
   "source": [
    "import pandas as pd\n",
    "import numpy as np\n",
    "import matplotlib.pyplot as plt\n",
    "import warnings\n",
    "warnings.filterwarnings('ignore')\n",
    "import seaborn as sns"
   ]
  },
  {
   "cell_type": "code",
   "execution_count": 101,
   "id": "7d46c07d",
   "metadata": {},
   "outputs": [
    {
     "data": {
      "text/html": [
       "<div>\n",
       "<style scoped>\n",
       "    .dataframe tbody tr th:only-of-type {\n",
       "        vertical-align: middle;\n",
       "    }\n",
       "\n",
       "    .dataframe tbody tr th {\n",
       "        vertical-align: top;\n",
       "    }\n",
       "\n",
       "    .dataframe thead th {\n",
       "        text-align: right;\n",
       "    }\n",
       "</style>\n",
       "<table border=\"1\" class=\"dataframe\">\n",
       "  <thead>\n",
       "    <tr style=\"text-align: right;\">\n",
       "      <th></th>\n",
       "      <th>Serial No.</th>\n",
       "      <th>GRE Score</th>\n",
       "      <th>TOEFL Score</th>\n",
       "      <th>University Rating</th>\n",
       "      <th>SOP</th>\n",
       "      <th>LOR</th>\n",
       "      <th>CGPA</th>\n",
       "      <th>Research</th>\n",
       "      <th>Chance of Admit</th>\n",
       "    </tr>\n",
       "  </thead>\n",
       "  <tbody>\n",
       "    <tr>\n",
       "      <th>0</th>\n",
       "      <td>1</td>\n",
       "      <td>337.0</td>\n",
       "      <td>118.0</td>\n",
       "      <td>4.0</td>\n",
       "      <td>4.5</td>\n",
       "      <td>4.5</td>\n",
       "      <td>9.65</td>\n",
       "      <td>1</td>\n",
       "      <td>0.92</td>\n",
       "    </tr>\n",
       "    <tr>\n",
       "      <th>1</th>\n",
       "      <td>2</td>\n",
       "      <td>324.0</td>\n",
       "      <td>107.0</td>\n",
       "      <td>4.0</td>\n",
       "      <td>4.0</td>\n",
       "      <td>4.5</td>\n",
       "      <td>8.87</td>\n",
       "      <td>1</td>\n",
       "      <td>0.76</td>\n",
       "    </tr>\n",
       "    <tr>\n",
       "      <th>2</th>\n",
       "      <td>3</td>\n",
       "      <td>NaN</td>\n",
       "      <td>104.0</td>\n",
       "      <td>3.0</td>\n",
       "      <td>3.0</td>\n",
       "      <td>3.5</td>\n",
       "      <td>8.00</td>\n",
       "      <td>1</td>\n",
       "      <td>0.72</td>\n",
       "    </tr>\n",
       "    <tr>\n",
       "      <th>3</th>\n",
       "      <td>4</td>\n",
       "      <td>322.0</td>\n",
       "      <td>110.0</td>\n",
       "      <td>3.0</td>\n",
       "      <td>3.5</td>\n",
       "      <td>2.5</td>\n",
       "      <td>8.67</td>\n",
       "      <td>1</td>\n",
       "      <td>0.80</td>\n",
       "    </tr>\n",
       "    <tr>\n",
       "      <th>4</th>\n",
       "      <td>5</td>\n",
       "      <td>314.0</td>\n",
       "      <td>103.0</td>\n",
       "      <td>2.0</td>\n",
       "      <td>2.0</td>\n",
       "      <td>3.0</td>\n",
       "      <td>8.21</td>\n",
       "      <td>0</td>\n",
       "      <td>0.65</td>\n",
       "    </tr>\n",
       "  </tbody>\n",
       "</table>\n",
       "</div>"
      ],
      "text/plain": [
       "   Serial No.  GRE Score  TOEFL Score  University Rating  SOP  LOR  CGPA  \\\n",
       "0           1      337.0        118.0                4.0  4.5  4.5  9.65   \n",
       "1           2      324.0        107.0                4.0  4.0  4.5  8.87   \n",
       "2           3        NaN        104.0                3.0  3.0  3.5  8.00   \n",
       "3           4      322.0        110.0                3.0  3.5  2.5  8.67   \n",
       "4           5      314.0        103.0                2.0  2.0  3.0  8.21   \n",
       "\n",
       "   Research  Chance of Admit  \n",
       "0         1             0.92  \n",
       "1         1             0.76  \n",
       "2         1             0.72  \n",
       "3         1             0.80  \n",
       "4         0             0.65  "
      ]
     },
     "execution_count": 101,
     "metadata": {},
     "output_type": "execute_result"
    }
   ],
   "source": [
    "df = pd.read_csv(\"Admission_Prediction.csv\")\n",
    "df.head()"
   ]
  },
  {
   "cell_type": "code",
   "execution_count": 102,
   "id": "eb6e44e4",
   "metadata": {
    "scrolled": true
   },
   "outputs": [
    {
     "data": {
      "text/html": [
       "<div>\n",
       "<style scoped>\n",
       "    .dataframe tbody tr th:only-of-type {\n",
       "        vertical-align: middle;\n",
       "    }\n",
       "\n",
       "    .dataframe tbody tr th {\n",
       "        vertical-align: top;\n",
       "    }\n",
       "\n",
       "    .dataframe thead th {\n",
       "        text-align: right;\n",
       "    }\n",
       "</style>\n",
       "<table border=\"1\" class=\"dataframe\">\n",
       "  <thead>\n",
       "    <tr style=\"text-align: right;\">\n",
       "      <th></th>\n",
       "      <th>Serial No.</th>\n",
       "      <th>GRE Score</th>\n",
       "      <th>TOEFL Score</th>\n",
       "      <th>University Rating</th>\n",
       "      <th>SOP</th>\n",
       "      <th>LOR</th>\n",
       "      <th>CGPA</th>\n",
       "      <th>Research</th>\n",
       "      <th>Chance of Admit</th>\n",
       "    </tr>\n",
       "  </thead>\n",
       "  <tbody>\n",
       "    <tr>\n",
       "      <th>495</th>\n",
       "      <td>496</td>\n",
       "      <td>332.0</td>\n",
       "      <td>108.0</td>\n",
       "      <td>5.0</td>\n",
       "      <td>4.5</td>\n",
       "      <td>4.0</td>\n",
       "      <td>9.02</td>\n",
       "      <td>1</td>\n",
       "      <td>0.87</td>\n",
       "    </tr>\n",
       "    <tr>\n",
       "      <th>496</th>\n",
       "      <td>497</td>\n",
       "      <td>337.0</td>\n",
       "      <td>117.0</td>\n",
       "      <td>5.0</td>\n",
       "      <td>5.0</td>\n",
       "      <td>5.0</td>\n",
       "      <td>9.87</td>\n",
       "      <td>1</td>\n",
       "      <td>0.96</td>\n",
       "    </tr>\n",
       "    <tr>\n",
       "      <th>497</th>\n",
       "      <td>498</td>\n",
       "      <td>330.0</td>\n",
       "      <td>120.0</td>\n",
       "      <td>5.0</td>\n",
       "      <td>4.5</td>\n",
       "      <td>5.0</td>\n",
       "      <td>9.56</td>\n",
       "      <td>1</td>\n",
       "      <td>0.93</td>\n",
       "    </tr>\n",
       "    <tr>\n",
       "      <th>498</th>\n",
       "      <td>499</td>\n",
       "      <td>312.0</td>\n",
       "      <td>103.0</td>\n",
       "      <td>4.0</td>\n",
       "      <td>4.0</td>\n",
       "      <td>5.0</td>\n",
       "      <td>8.43</td>\n",
       "      <td>0</td>\n",
       "      <td>0.73</td>\n",
       "    </tr>\n",
       "    <tr>\n",
       "      <th>499</th>\n",
       "      <td>500</td>\n",
       "      <td>327.0</td>\n",
       "      <td>113.0</td>\n",
       "      <td>4.0</td>\n",
       "      <td>4.5</td>\n",
       "      <td>4.5</td>\n",
       "      <td>9.04</td>\n",
       "      <td>0</td>\n",
       "      <td>0.84</td>\n",
       "    </tr>\n",
       "  </tbody>\n",
       "</table>\n",
       "</div>"
      ],
      "text/plain": [
       "     Serial No.  GRE Score  TOEFL Score  University Rating  SOP  LOR  CGPA  \\\n",
       "495         496      332.0        108.0                5.0  4.5  4.0  9.02   \n",
       "496         497      337.0        117.0                5.0  5.0  5.0  9.87   \n",
       "497         498      330.0        120.0                5.0  4.5  5.0  9.56   \n",
       "498         499      312.0        103.0                4.0  4.0  5.0  8.43   \n",
       "499         500      327.0        113.0                4.0  4.5  4.5  9.04   \n",
       "\n",
       "     Research  Chance of Admit  \n",
       "495         1             0.87  \n",
       "496         1             0.96  \n",
       "497         1             0.93  \n",
       "498         0             0.73  \n",
       "499         0             0.84  "
      ]
     },
     "execution_count": 102,
     "metadata": {},
     "output_type": "execute_result"
    }
   ],
   "source": [
    "df.tail()"
   ]
  },
  {
   "cell_type": "code",
   "execution_count": 107,
   "id": "9041a5fb",
   "metadata": {},
   "outputs": [],
   "source": [
    "df.rename(columns = {\"GRE Score\": \"gre score\",\"TOEFL Score\": \"toefl score\",\"University Rating\":\"university rating\",\"SOP\":\"sop\",\"LOR\":\"lor\",\"CGPA\":\"cgpa\",\"Research\":\"research\"},inplace = True)"
   ]
  },
  {
   "cell_type": "code",
   "execution_count": 108,
   "id": "5a27226c",
   "metadata": {},
   "outputs": [
    {
     "data": {
      "text/html": [
       "<div>\n",
       "<style scoped>\n",
       "    .dataframe tbody tr th:only-of-type {\n",
       "        vertical-align: middle;\n",
       "    }\n",
       "\n",
       "    .dataframe tbody tr th {\n",
       "        vertical-align: top;\n",
       "    }\n",
       "\n",
       "    .dataframe thead th {\n",
       "        text-align: right;\n",
       "    }\n",
       "</style>\n",
       "<table border=\"1\" class=\"dataframe\">\n",
       "  <thead>\n",
       "    <tr style=\"text-align: right;\">\n",
       "      <th></th>\n",
       "      <th>Serial No.</th>\n",
       "      <th>gre score</th>\n",
       "      <th>toefl score</th>\n",
       "      <th>university rating</th>\n",
       "      <th>sop</th>\n",
       "      <th>lor</th>\n",
       "      <th>cgpa</th>\n",
       "      <th>research</th>\n",
       "      <th>Chance of Admit</th>\n",
       "    </tr>\n",
       "  </thead>\n",
       "  <tbody>\n",
       "    <tr>\n",
       "      <th>0</th>\n",
       "      <td>1</td>\n",
       "      <td>337.0</td>\n",
       "      <td>118.0</td>\n",
       "      <td>4.0</td>\n",
       "      <td>4.5</td>\n",
       "      <td>4.5</td>\n",
       "      <td>9.65</td>\n",
       "      <td>1</td>\n",
       "      <td>0.92</td>\n",
       "    </tr>\n",
       "    <tr>\n",
       "      <th>1</th>\n",
       "      <td>2</td>\n",
       "      <td>324.0</td>\n",
       "      <td>107.0</td>\n",
       "      <td>4.0</td>\n",
       "      <td>4.0</td>\n",
       "      <td>4.5</td>\n",
       "      <td>8.87</td>\n",
       "      <td>1</td>\n",
       "      <td>0.76</td>\n",
       "    </tr>\n",
       "    <tr>\n",
       "      <th>2</th>\n",
       "      <td>3</td>\n",
       "      <td>NaN</td>\n",
       "      <td>104.0</td>\n",
       "      <td>3.0</td>\n",
       "      <td>3.0</td>\n",
       "      <td>3.5</td>\n",
       "      <td>8.00</td>\n",
       "      <td>1</td>\n",
       "      <td>0.72</td>\n",
       "    </tr>\n",
       "    <tr>\n",
       "      <th>3</th>\n",
       "      <td>4</td>\n",
       "      <td>322.0</td>\n",
       "      <td>110.0</td>\n",
       "      <td>3.0</td>\n",
       "      <td>3.5</td>\n",
       "      <td>2.5</td>\n",
       "      <td>8.67</td>\n",
       "      <td>1</td>\n",
       "      <td>0.80</td>\n",
       "    </tr>\n",
       "    <tr>\n",
       "      <th>4</th>\n",
       "      <td>5</td>\n",
       "      <td>314.0</td>\n",
       "      <td>103.0</td>\n",
       "      <td>2.0</td>\n",
       "      <td>2.0</td>\n",
       "      <td>3.0</td>\n",
       "      <td>8.21</td>\n",
       "      <td>0</td>\n",
       "      <td>0.65</td>\n",
       "    </tr>\n",
       "  </tbody>\n",
       "</table>\n",
       "</div>"
      ],
      "text/plain": [
       "   Serial No.  gre score  toefl score  university rating  sop  lor  cgpa  \\\n",
       "0           1      337.0        118.0                4.0  4.5  4.5  9.65   \n",
       "1           2      324.0        107.0                4.0  4.0  4.5  8.87   \n",
       "2           3        NaN        104.0                3.0  3.0  3.5  8.00   \n",
       "3           4      322.0        110.0                3.0  3.5  2.5  8.67   \n",
       "4           5      314.0        103.0                2.0  2.0  3.0  8.21   \n",
       "\n",
       "   research  Chance of Admit  \n",
       "0         1             0.92  \n",
       "1         1             0.76  \n",
       "2         1             0.72  \n",
       "3         1             0.80  \n",
       "4         0             0.65  "
      ]
     },
     "execution_count": 108,
     "metadata": {},
     "output_type": "execute_result"
    }
   ],
   "source": [
    "df.head()"
   ]
  },
  {
   "cell_type": "code",
   "execution_count": 109,
   "id": "9eee141c",
   "metadata": {},
   "outputs": [],
   "source": [
    "missing_data = df.isnull()"
   ]
  },
  {
   "cell_type": "code",
   "execution_count": 110,
   "id": "a2a46a72",
   "metadata": {},
   "outputs": [
    {
     "name": "stdout",
     "output_type": "stream",
     "text": [
      "Serial No.\n",
      "False    500\n",
      "Name: Serial No., dtype: int64\n",
      "\n",
      "gre score\n",
      "False    485\n",
      "True      15\n",
      "Name: gre score, dtype: int64\n",
      "\n",
      "toefl score\n",
      "False    490\n",
      "True      10\n",
      "Name: toefl score, dtype: int64\n",
      "\n",
      "university rating\n",
      "False    485\n",
      "True      15\n",
      "Name: university rating, dtype: int64\n",
      "\n",
      "sop\n",
      "False    500\n",
      "Name: sop, dtype: int64\n",
      "\n",
      "lor\n",
      "False    500\n",
      "Name: lor, dtype: int64\n",
      "\n",
      "cgpa\n",
      "False    500\n",
      "Name: cgpa, dtype: int64\n",
      "\n",
      "research\n",
      "False    500\n",
      "Name: research, dtype: int64\n",
      "\n",
      "Chance of Admit\n",
      "False    500\n",
      "Name: Chance of Admit, dtype: int64\n",
      "\n"
     ]
    }
   ],
   "source": [
    "for columns in df:\n",
    "    print(columns)\n",
    "    print(f\"{missing_data[columns].value_counts()}\")\n",
    "    print(\"\")"
   ]
  },
  {
   "cell_type": "markdown",
   "id": "ae2465c1",
   "metadata": {},
   "source": [
    "#### We have missing values in GRE Score,TOEFL Score,University Rating columns respectively.\n",
    "#### we will check the pattern of this columns for imputing missing values."
   ]
  },
  {
   "cell_type": "code",
   "execution_count": 112,
   "id": "f2ccb2ac",
   "metadata": {},
   "outputs": [
    {
     "data": {
      "text/plain": [
       "<AxesSubplot:xlabel='university rating', ylabel='Density'>"
      ]
     },
     "execution_count": 112,
     "metadata": {},
     "output_type": "execute_result"
    },
    {
     "data": {
      "image/png": "[encoded data removed]",
      "text/plain": [
       "<Figure size 720x864 with 3 Axes>"
      ]
     },
     "metadata": {
      "needs_background": "light"
     },
     "output_type": "display_data"
    }
   ],
   "source": [
    "plt.figure(figsize = (10,12))\n",
    "\n",
    "plt.subplot(2,2,1)\n",
    "sns.distplot(df[\"gre score\"],kde = True)\n",
    "\n",
    "plt.subplot(2,2,2)\n",
    "sns.distplot(df[\"toefl score\"],kde = True)\n",
    "\n",
    "plt.subplot(2,2,3)\n",
    "sns.distplot(df[\"university rating\"],kde = True)\n",
    "\n",
    "\n"
   ]
  },
  {
   "cell_type": "code",
   "execution_count": 117,
   "id": "2871eae3",
   "metadata": {},
   "outputs": [
    {
     "data": {
      "text/plain": [
       "-0.05168658259225668"
      ]
     },
     "execution_count": 117,
     "metadata": {},
     "output_type": "execute_result"
    }
   ],
   "source": [
    "df[\"gre score\"].skew()"
   ]
  },
  {
   "cell_type": "code",
   "execution_count": 118,
   "id": "c3cdab50",
   "metadata": {},
   "outputs": [
    {
     "data": {
      "text/plain": [
       "0.10206773213506315"
      ]
     },
     "execution_count": 118,
     "metadata": {},
     "output_type": "execute_result"
    }
   ],
   "source": [
    "df[\"toefl score\"].skew()"
   ]
  },
  {
   "cell_type": "code",
   "execution_count": 119,
   "id": "af42359a",
   "metadata": {},
   "outputs": [
    {
     "data": {
      "text/plain": [
       "0.09105673569733876"
      ]
     },
     "execution_count": 119,
     "metadata": {},
     "output_type": "execute_result"
    }
   ],
   "source": [
    "df[\"university rating\"].skew()"
   ]
  },
  {
   "cell_type": "code",
   "execution_count": 120,
   "id": "212f3437",
   "metadata": {},
   "outputs": [
    {
     "data": {
      "text/plain": [
       "312.0"
      ]
     },
     "execution_count": 120,
     "metadata": {},
     "output_type": "execute_result"
    }
   ],
   "source": [
    "df[\"gre score\"].value_counts().idxmax()"
   ]
  },
  {
   "cell_type": "markdown",
   "id": "13e4c032",
   "metadata": {},
   "source": [
    "#### We will fill our GRE Score column with the most commonly repeated value so that the distribution doesn't get disturbed."
   ]
  },
  {
   "cell_type": "code",
   "execution_count": 121,
   "id": "c87f2f2d",
   "metadata": {},
   "outputs": [],
   "source": [
    "df[\"gre score\"].fillna(df[\"gre score\"].mode()[0],inplace = True)"
   ]
  },
  {
   "cell_type": "markdown",
   "id": "8344506e",
   "metadata": {},
   "source": [
    "####  To replace the missing values in the 'TOEFL Score' column.\n",
    "####  Mode has been used here to replace the scores with the most occurring scores so that data follows the general trend.\n"
   ]
  },
  {
   "cell_type": "code",
   "execution_count": 122,
   "id": "3a15fc40",
   "metadata": {},
   "outputs": [],
   "source": [
    "df[\"toefl score\"].fillna(df[\"toefl score\"].mode()[0],inplace = True)"
   ]
  },
  {
   "cell_type": "markdown",
   "id": "8c6f4a60",
   "metadata": {},
   "source": [
    "####  Mean has been used here to replace the null values with the average ratings in the 'University Rating' column.\n",
    "\n"
   ]
  },
  {
   "cell_type": "code",
   "execution_count": 123,
   "id": "b2e98f37",
   "metadata": {},
   "outputs": [],
   "source": [
    "df[\"university rating\"].fillna(df[\"university rating\"].mean(),inplace = True)"
   ]
  },
  {
   "cell_type": "code",
   "execution_count": 124,
   "id": "78ebfff7",
   "metadata": {},
   "outputs": [
    {
     "data": {
      "text/plain": [
       "Serial No.           0\n",
       "gre score            0\n",
       "toefl score          0\n",
       "university rating    0\n",
       "sop                  0\n",
       "lor                  0\n",
       "cgpa                 0\n",
       "research             0\n",
       "Chance of Admit      0\n",
       "dtype: int64"
      ]
     },
     "execution_count": 124,
     "metadata": {},
     "output_type": "execute_result"
    }
   ],
   "source": [
    "# Now we can see that there are no missing values in the dataset.\n",
    "df.isnull().sum()"
   ]
  },
  {
   "cell_type": "code",
   "execution_count": 125,
   "id": "65b57460",
   "metadata": {},
   "outputs": [],
   "source": [
    "# Dropping the features that is not important.\n",
    "df.drop([\"Serial No.\"], axis = 1,inplace = True)"
   ]
  },
  {
   "cell_type": "markdown",
   "id": "44474506",
   "metadata": {},
   "source": [
    "#### Checking the Outliers in the Dataset:-"
   ]
  },
  {
   "cell_type": "markdown",
   "id": "602520b0",
   "metadata": {},
   "source": [
    "#### First we will check the pattern of every column to see whether its normally distributed or has a skewed distribution."
   ]
  },
  {
   "cell_type": "code",
   "execution_count": 126,
   "id": "9ab306e0",
   "metadata": {},
   "outputs": [
    {
     "data": {
      "text/plain": [
       "<AxesSubplot:xlabel='research', ylabel='Density'>"
      ]
     },
     "execution_count": 126,
     "metadata": {},
     "output_type": "execute_result"
    },
    {
     "data": {
      "image/png": "[encoded data removed]",
      "text/plain": [
       "<Figure size 720x864 with 4 Axes>"
      ]
     },
     "metadata": {
      "needs_background": "light"
     },
     "output_type": "display_data"
    }
   ],
   "source": [
    "plt.figure(figsize = (10,12))\n",
    "\n",
    "plt.subplot(2,2,1)\n",
    "sns.distplot(df[\"sop\"],kde = True)\n",
    "\n",
    "plt.subplot(2,2,2)\n",
    "sns.distplot(df[\"lor\"],kde = True)\n",
    "\n",
    "plt.subplot(2,2,3)\n",
    "sns.distplot(df[\"cgpa\"],kde = True)\n",
    "\n",
    "\n",
    "plt.subplot(2,2,4)\n",
    "sns.distplot(df[\"research\"],kde = True)"
   ]
  },
  {
   "cell_type": "code",
   "execution_count": 127,
   "id": "82deab65",
   "metadata": {},
   "outputs": [
    {
     "data": {
      "text/plain": [
       "-0.22897239628779945"
      ]
     },
     "execution_count": 127,
     "metadata": {},
     "output_type": "execute_result"
    }
   ],
   "source": [
    "df[\"sop\"].skew()"
   ]
  },
  {
   "cell_type": "code",
   "execution_count": 128,
   "id": "5932ed1e",
   "metadata": {},
   "outputs": [
    {
     "data": {
      "text/plain": [
       "-0.1452903146082398"
      ]
     },
     "execution_count": 128,
     "metadata": {},
     "output_type": "execute_result"
    }
   ],
   "source": [
    "df[\"lor\"].skew()"
   ]
  },
  {
   "cell_type": "code",
   "execution_count": 130,
   "id": "23f31e54",
   "metadata": {},
   "outputs": [
    {
     "data": {
      "text/plain": [
       "-0.026612517318359303"
      ]
     },
     "execution_count": 130,
     "metadata": {},
     "output_type": "execute_result"
    }
   ],
   "source": [
    "df[\"cgpa\"].skew()"
   ]
  },
  {
   "cell_type": "code",
   "execution_count": 131,
   "id": "f8c6d08f",
   "metadata": {},
   "outputs": [
    {
     "data": {
      "text/plain": [
       "-0.24247492100796933"
      ]
     },
     "execution_count": 131,
     "metadata": {},
     "output_type": "execute_result"
    }
   ],
   "source": [
    "df[\"research\"].skew()"
   ]
  },
  {
   "cell_type": "code",
   "execution_count": 132,
   "id": "1e94da1d",
   "metadata": {
    "scrolled": true
   },
   "outputs": [
    {
     "name": "stdout",
     "output_type": "stream",
     "text": [
      "gre score\n",
      "Mean value of gre score is 316.422\n",
      "Standard Deviation of gre score is 11.131204941375106\n",
      "Minimum value of gre score is 290.0\n",
      "Maximum value of gre score is 340.0\n",
      " \n",
      "toefl score\n",
      "Mean value of toefl score is 107.244\n",
      "Standard Deviation of toefl score is 6.064157981455312\n",
      "Minimum value of toefl score is 92.0\n",
      "Maximum value of toefl score is 120.0\n",
      " \n",
      "university rating\n",
      "Mean value of university rating is 3.121649484536084\n",
      "Standard Deviation of university rating is 1.128801908361862\n",
      "Minimum value of university rating is 1.0\n",
      "Maximum value of university rating is 5.0\n",
      " \n",
      "sop\n",
      "Mean value of sop is 3.374\n",
      "Standard Deviation of sop is 0.9910036207566069\n",
      "Minimum value of sop is 1.0\n",
      "Maximum value of sop is 5.0\n",
      " \n",
      "lor\n",
      "Mean value of lor is 3.484\n",
      "Standard Deviation of lor is 0.9254495738978181\n",
      "Minimum value of lor is 1.0\n",
      "Maximum value of lor is 5.0\n",
      " \n",
      "cgpa\n",
      "Mean value of cgpa is 8.576440000000003\n",
      "Standard Deviation of cgpa is 0.6048128003332052\n",
      "Minimum value of cgpa is 6.8\n",
      "Maximum value of cgpa is 9.92\n",
      " \n",
      "research\n",
      "Mean value of research is 0.56\n",
      "Standard Deviation of research is 0.49688407860903494\n",
      "Minimum value of research is 0\n",
      "Maximum value of research is 1\n",
      " \n",
      "Chance of Admit\n",
      "Mean value of Chance of Admit is 0.7217399999999996\n",
      "Standard Deviation of Chance of Admit is 0.1411404039503023\n",
      "Minimum value of Chance of Admit is 0.34\n",
      "Maximum value of Chance of Admit is 0.97\n",
      " \n"
     ]
    }
   ],
   "source": [
    "for columns in df:\n",
    "    print(columns)\n",
    "    print(f\"Mean value of {columns} is {df[columns].mean()}\")\n",
    "    print(f\"Standard Deviation of {columns} is {df[columns].std()}\")\n",
    "    print(f'Minimum value of {columns} is {df[columns].min()}')\n",
    "    print(f'Maximum value of {columns} is {df[columns].max()}')\n",
    "    print(\" \")"
   ]
  },
  {
   "cell_type": "markdown",
   "id": "e6f50f32",
   "metadata": {},
   "source": [
    "#### Finding the boundary values for my features as  all the features follows gaussian distribution."
   ]
  },
  {
   "cell_type": "code",
   "execution_count": 133,
   "id": "b69de98d",
   "metadata": {},
   "outputs": [
    {
     "name": "stdout",
     "output_type": "stream",
     "text": [
      "gre score\n",
      "Highest Value is 349.81561482412536\n",
      "Lowest Value is 283.0283851758747\n",
      "\n",
      "toefl score\n",
      "Highest Value is 125.43647394436593\n",
      "Lowest Value is 89.05152605563407\n",
      "\n",
      "university rating\n",
      "Highest Value is 6.50805520962167\n",
      "Lowest Value is -0.26475624054950186\n",
      "\n",
      "sop\n",
      "Highest Value is 6.347010862269821\n",
      "Lowest Value is 0.40098913773017975\n",
      "\n",
      "lor\n",
      "Highest Value is 6.260348721693454\n",
      "Lowest Value is 0.7076512783065456\n",
      "\n",
      "cgpa\n",
      "Highest Value is 10.390878400999618\n",
      "Lowest Value is 6.762001599000388\n",
      "\n",
      "research\n",
      "Highest Value is 2.050652235827105\n",
      "Lowest Value is -0.9306522358271048\n",
      "\n"
     ]
    }
   ],
   "source": [
    "for columns in df.iloc[:,0:7]:\n",
    "    print(columns)\n",
    "    print(f\"Highest Value is {df[columns].mean() + 3*df[columns].std()}\")\n",
    "    print(f\"Lowest Value is {df[columns].mean() - 3*df[columns].std()}\")\n",
    "    print(\"\")\n",
    "    "
   ]
  },
  {
   "cell_type": "markdown",
   "id": "747e013d",
   "metadata": {},
   "source": [
    "#### Checking the Outliers in each features:-"
   ]
  },
  {
   "cell_type": "code",
   "execution_count": 134,
   "id": "e628bf96",
   "metadata": {},
   "outputs": [
    {
     "data": {
      "text/html": [
       "<div>\n",
       "<style scoped>\n",
       "    .dataframe tbody tr th:only-of-type {\n",
       "        vertical-align: middle;\n",
       "    }\n",
       "\n",
       "    .dataframe tbody tr th {\n",
       "        vertical-align: top;\n",
       "    }\n",
       "\n",
       "    .dataframe thead th {\n",
       "        text-align: right;\n",
       "    }\n",
       "</style>\n",
       "<table border=\"1\" class=\"dataframe\">\n",
       "  <thead>\n",
       "    <tr style=\"text-align: right;\">\n",
       "      <th></th>\n",
       "      <th>gre score</th>\n",
       "      <th>toefl score</th>\n",
       "      <th>university rating</th>\n",
       "      <th>sop</th>\n",
       "      <th>lor</th>\n",
       "      <th>cgpa</th>\n",
       "      <th>research</th>\n",
       "      <th>Chance of Admit</th>\n",
       "    </tr>\n",
       "  </thead>\n",
       "  <tbody>\n",
       "  </tbody>\n",
       "</table>\n",
       "</div>"
      ],
      "text/plain": [
       "Empty DataFrame\n",
       "Columns: [gre score, toefl score, university rating, sop, lor, cgpa, research, Chance of Admit]\n",
       "Index: []"
      ]
     },
     "execution_count": 134,
     "metadata": {},
     "output_type": "execute_result"
    }
   ],
   "source": [
    "df[(df[\"gre score\"]>349.815)|(df[\"gre score\"]<283.028)]"
   ]
  },
  {
   "cell_type": "code",
   "execution_count": 135,
   "id": "1b658f25",
   "metadata": {},
   "outputs": [
    {
     "data": {
      "image/png": "[encoded data removed]",
      "text/plain": [
       "<Figure size 432x288 with 1 Axes>"
      ]
     },
     "metadata": {
      "needs_background": "light"
     },
     "output_type": "display_data"
    }
   ],
   "source": [
    "figure = df.boxplot(column = [\"gre score\"])"
   ]
  },
  {
   "cell_type": "code",
   "execution_count": 136,
   "id": "122fc25a",
   "metadata": {},
   "outputs": [
    {
     "data": {
      "text/html": [
       "<div>\n",
       "<style scoped>\n",
       "    .dataframe tbody tr th:only-of-type {\n",
       "        vertical-align: middle;\n",
       "    }\n",
       "\n",
       "    .dataframe tbody tr th {\n",
       "        vertical-align: top;\n",
       "    }\n",
       "\n",
       "    .dataframe thead th {\n",
       "        text-align: right;\n",
       "    }\n",
       "</style>\n",
       "<table border=\"1\" class=\"dataframe\">\n",
       "  <thead>\n",
       "    <tr style=\"text-align: right;\">\n",
       "      <th></th>\n",
       "      <th>gre score</th>\n",
       "      <th>toefl score</th>\n",
       "      <th>university rating</th>\n",
       "      <th>sop</th>\n",
       "      <th>lor</th>\n",
       "      <th>cgpa</th>\n",
       "      <th>research</th>\n",
       "      <th>Chance of Admit</th>\n",
       "    </tr>\n",
       "  </thead>\n",
       "  <tbody>\n",
       "  </tbody>\n",
       "</table>\n",
       "</div>"
      ],
      "text/plain": [
       "Empty DataFrame\n",
       "Columns: [gre score, toefl score, university rating, sop, lor, cgpa, research, Chance of Admit]\n",
       "Index: []"
      ]
     },
     "execution_count": 136,
     "metadata": {},
     "output_type": "execute_result"
    }
   ],
   "source": [
    "df[(df[\"toefl score\"]>125.43)|(df[\"toefl score\"]<89.051)]"
   ]
  },
  {
   "cell_type": "code",
   "execution_count": 137,
   "id": "c460bddc",
   "metadata": {},
   "outputs": [
    {
     "data": {
      "image/png": "[encoded data removed]",
      "text/plain": [
       "<Figure size 432x288 with 1 Axes>"
      ]
     },
     "metadata": {
      "needs_background": "light"
     },
     "output_type": "display_data"
    }
   ],
   "source": [
    "figure = df.boxplot(column = [\"toefl score\"])"
   ]
  },
  {
   "cell_type": "code",
   "execution_count": 138,
   "id": "2eaf0bc9",
   "metadata": {},
   "outputs": [
    {
     "data": {
      "text/html": [
       "<div>\n",
       "<style scoped>\n",
       "    .dataframe tbody tr th:only-of-type {\n",
       "        vertical-align: middle;\n",
       "    }\n",
       "\n",
       "    .dataframe tbody tr th {\n",
       "        vertical-align: top;\n",
       "    }\n",
       "\n",
       "    .dataframe thead th {\n",
       "        text-align: right;\n",
       "    }\n",
       "</style>\n",
       "<table border=\"1\" class=\"dataframe\">\n",
       "  <thead>\n",
       "    <tr style=\"text-align: right;\">\n",
       "      <th></th>\n",
       "      <th>gre score</th>\n",
       "      <th>toefl score</th>\n",
       "      <th>university rating</th>\n",
       "      <th>sop</th>\n",
       "      <th>lor</th>\n",
       "      <th>cgpa</th>\n",
       "      <th>research</th>\n",
       "      <th>Chance of Admit</th>\n",
       "    </tr>\n",
       "  </thead>\n",
       "  <tbody>\n",
       "  </tbody>\n",
       "</table>\n",
       "</div>"
      ],
      "text/plain": [
       "Empty DataFrame\n",
       "Columns: [gre score, toefl score, university rating, sop, lor, cgpa, research, Chance of Admit]\n",
       "Index: []"
      ]
     },
     "execution_count": 138,
     "metadata": {},
     "output_type": "execute_result"
    }
   ],
   "source": [
    "df[(df[\"university rating\"]>6.5080)|(df[\"university rating\"]<-0.264)]"
   ]
  },
  {
   "cell_type": "code",
   "execution_count": 139,
   "id": "a048f3cc",
   "metadata": {},
   "outputs": [
    {
     "data": {
      "image/png": "[encoded data removed]",
      "text/plain": [
       "<Figure size 432x288 with 1 Axes>"
      ]
     },
     "metadata": {
      "needs_background": "light"
     },
     "output_type": "display_data"
    }
   ],
   "source": [
    "figure = df.boxplot(column = [\"university rating\"])"
   ]
  },
  {
   "cell_type": "code",
   "execution_count": 140,
   "id": "e7091839",
   "metadata": {},
   "outputs": [
    {
     "data": {
      "text/html": [
       "<div>\n",
       "<style scoped>\n",
       "    .dataframe tbody tr th:only-of-type {\n",
       "        vertical-align: middle;\n",
       "    }\n",
       "\n",
       "    .dataframe tbody tr th {\n",
       "        vertical-align: top;\n",
       "    }\n",
       "\n",
       "    .dataframe thead th {\n",
       "        text-align: right;\n",
       "    }\n",
       "</style>\n",
       "<table border=\"1\" class=\"dataframe\">\n",
       "  <thead>\n",
       "    <tr style=\"text-align: right;\">\n",
       "      <th></th>\n",
       "      <th>gre score</th>\n",
       "      <th>toefl score</th>\n",
       "      <th>university rating</th>\n",
       "      <th>sop</th>\n",
       "      <th>lor</th>\n",
       "      <th>cgpa</th>\n",
       "      <th>research</th>\n",
       "      <th>Chance of Admit</th>\n",
       "    </tr>\n",
       "  </thead>\n",
       "  <tbody>\n",
       "  </tbody>\n",
       "</table>\n",
       "</div>"
      ],
      "text/plain": [
       "Empty DataFrame\n",
       "Columns: [gre score, toefl score, university rating, sop, lor, cgpa, research, Chance of Admit]\n",
       "Index: []"
      ]
     },
     "execution_count": 140,
     "metadata": {},
     "output_type": "execute_result"
    }
   ],
   "source": [
    "df[(df[\"sop\"]>6.347)|(df[\"sop\"]<0.4009)]"
   ]
  },
  {
   "cell_type": "code",
   "execution_count": 141,
   "id": "9f27fff1",
   "metadata": {},
   "outputs": [
    {
     "data": {
      "image/png": "[encoded data removed]",
      "text/plain": [
       "<Figure size 432x288 with 1 Axes>"
      ]
     },
     "metadata": {
      "needs_background": "light"
     },
     "output_type": "display_data"
    }
   ],
   "source": [
    "figure = df.boxplot(column = [\"sop\"])"
   ]
  },
  {
   "cell_type": "code",
   "execution_count": 142,
   "id": "0ecc3629",
   "metadata": {},
   "outputs": [
    {
     "data": {
      "text/html": [
       "<div>\n",
       "<style scoped>\n",
       "    .dataframe tbody tr th:only-of-type {\n",
       "        vertical-align: middle;\n",
       "    }\n",
       "\n",
       "    .dataframe tbody tr th {\n",
       "        vertical-align: top;\n",
       "    }\n",
       "\n",
       "    .dataframe thead th {\n",
       "        text-align: right;\n",
       "    }\n",
       "</style>\n",
       "<table border=\"1\" class=\"dataframe\">\n",
       "  <thead>\n",
       "    <tr style=\"text-align: right;\">\n",
       "      <th></th>\n",
       "      <th>gre score</th>\n",
       "      <th>toefl score</th>\n",
       "      <th>university rating</th>\n",
       "      <th>sop</th>\n",
       "      <th>lor</th>\n",
       "      <th>cgpa</th>\n",
       "      <th>research</th>\n",
       "      <th>Chance of Admit</th>\n",
       "    </tr>\n",
       "  </thead>\n",
       "  <tbody>\n",
       "  </tbody>\n",
       "</table>\n",
       "</div>"
      ],
      "text/plain": [
       "Empty DataFrame\n",
       "Columns: [gre score, toefl score, university rating, sop, lor, cgpa, research, Chance of Admit]\n",
       "Index: []"
      ]
     },
     "execution_count": 142,
     "metadata": {},
     "output_type": "execute_result"
    }
   ],
   "source": [
    "df[(df[\"lor\"]>6.260)|(df[\"lor\"]<0.70765)]"
   ]
  },
  {
   "cell_type": "code",
   "execution_count": 143,
   "id": "8cc7b1f3",
   "metadata": {},
   "outputs": [
    {
     "data": {
      "image/png": "[encoded data removed]",
      "text/plain": [
       "<Figure size 432x288 with 1 Axes>"
      ]
     },
     "metadata": {
      "needs_background": "light"
     },
     "output_type": "display_data"
    }
   ],
   "source": [
    "figure = df.boxplot(column = [\"lor\"],color = 'yellow')"
   ]
  },
  {
   "cell_type": "code",
   "execution_count": 144,
   "id": "4dff76d0",
   "metadata": {},
   "outputs": [
    {
     "data": {
      "text/html": [
       "<div>\n",
       "<style scoped>\n",
       "    .dataframe tbody tr th:only-of-type {\n",
       "        vertical-align: middle;\n",
       "    }\n",
       "\n",
       "    .dataframe tbody tr th {\n",
       "        vertical-align: top;\n",
       "    }\n",
       "\n",
       "    .dataframe thead th {\n",
       "        text-align: right;\n",
       "    }\n",
       "</style>\n",
       "<table border=\"1\" class=\"dataframe\">\n",
       "  <thead>\n",
       "    <tr style=\"text-align: right;\">\n",
       "      <th></th>\n",
       "      <th>gre score</th>\n",
       "      <th>toefl score</th>\n",
       "      <th>university rating</th>\n",
       "      <th>sop</th>\n",
       "      <th>lor</th>\n",
       "      <th>cgpa</th>\n",
       "      <th>research</th>\n",
       "      <th>Chance of Admit</th>\n",
       "    </tr>\n",
       "  </thead>\n",
       "  <tbody>\n",
       "  </tbody>\n",
       "</table>\n",
       "</div>"
      ],
      "text/plain": [
       "Empty DataFrame\n",
       "Columns: [gre score, toefl score, university rating, sop, lor, cgpa, research, Chance of Admit]\n",
       "Index: []"
      ]
     },
     "execution_count": 144,
     "metadata": {},
     "output_type": "execute_result"
    }
   ],
   "source": [
    "df[(df[\"cgpa\"]>10.3908)|(df[\"cgpa\"]<6.762)]"
   ]
  },
  {
   "cell_type": "code",
   "execution_count": 146,
   "id": "27eb7133",
   "metadata": {},
   "outputs": [
    {
     "data": {
      "image/png": "[encoded data removed]",
      "text/plain": [
       "<Figure size 432x288 with 1 Axes>"
      ]
     },
     "metadata": {
      "needs_background": "light"
     },
     "output_type": "display_data"
    }
   ],
   "source": [
    "figure = df.boxplot(column = [\"cgpa\"],color = 'orange')"
   ]
  },
  {
   "cell_type": "code",
   "execution_count": 147,
   "id": "03b1448a",
   "metadata": {},
   "outputs": [
    {
     "data": {
      "text/html": [
       "<div>\n",
       "<style scoped>\n",
       "    .dataframe tbody tr th:only-of-type {\n",
       "        vertical-align: middle;\n",
       "    }\n",
       "\n",
       "    .dataframe tbody tr th {\n",
       "        vertical-align: top;\n",
       "    }\n",
       "\n",
       "    .dataframe thead th {\n",
       "        text-align: right;\n",
       "    }\n",
       "</style>\n",
       "<table border=\"1\" class=\"dataframe\">\n",
       "  <thead>\n",
       "    <tr style=\"text-align: right;\">\n",
       "      <th></th>\n",
       "      <th>gre score</th>\n",
       "      <th>toefl score</th>\n",
       "      <th>university rating</th>\n",
       "      <th>sop</th>\n",
       "      <th>lor</th>\n",
       "      <th>cgpa</th>\n",
       "      <th>research</th>\n",
       "      <th>Chance of Admit</th>\n",
       "    </tr>\n",
       "  </thead>\n",
       "  <tbody>\n",
       "  </tbody>\n",
       "</table>\n",
       "</div>"
      ],
      "text/plain": [
       "Empty DataFrame\n",
       "Columns: [gre score, toefl score, university rating, sop, lor, cgpa, research, Chance of Admit]\n",
       "Index: []"
      ]
     },
     "execution_count": 147,
     "metadata": {},
     "output_type": "execute_result"
    }
   ],
   "source": [
    "df[(df[\"research\"]> 2.050)|(df[\"research\"]<-0.930)]"
   ]
  },
  {
   "cell_type": "code",
   "execution_count": 148,
   "id": "fe09081c",
   "metadata": {},
   "outputs": [
    {
     "data": {
      "image/png": "[encoded data removed]",
      "text/plain": [
       "<Figure size 432x288 with 1 Axes>"
      ]
     },
     "metadata": {
      "needs_background": "light"
     },
     "output_type": "display_data"
    }
   ],
   "source": [
    "figure = df.boxplot(column = [\"research\"],color = 'red')"
   ]
  },
  {
   "cell_type": "markdown",
   "id": "70bc79f7",
   "metadata": {},
   "source": [
    "#### There are no outliers in our dataset."
   ]
  },
  {
   "cell_type": "code",
   "execution_count": 149,
   "id": "d0d04c04",
   "metadata": {
    "scrolled": true
   },
   "outputs": [
    {
     "data": {
      "text/html": [
       "<div>\n",
       "<style scoped>\n",
       "    .dataframe tbody tr th:only-of-type {\n",
       "        vertical-align: middle;\n",
       "    }\n",
       "\n",
       "    .dataframe tbody tr th {\n",
       "        vertical-align: top;\n",
       "    }\n",
       "\n",
       "    .dataframe thead th {\n",
       "        text-align: right;\n",
       "    }\n",
       "</style>\n",
       "<table border=\"1\" class=\"dataframe\">\n",
       "  <thead>\n",
       "    <tr style=\"text-align: right;\">\n",
       "      <th></th>\n",
       "      <th>gre score</th>\n",
       "      <th>toefl score</th>\n",
       "      <th>university rating</th>\n",
       "      <th>sop</th>\n",
       "      <th>lor</th>\n",
       "      <th>cgpa</th>\n",
       "      <th>research</th>\n",
       "      <th>Chance of Admit</th>\n",
       "    </tr>\n",
       "  </thead>\n",
       "  <tbody>\n",
       "    <tr>\n",
       "      <th>gre score</th>\n",
       "      <td>1.000000</td>\n",
       "      <td>0.813091</td>\n",
       "      <td>0.620704</td>\n",
       "      <td>0.606973</td>\n",
       "      <td>0.521241</td>\n",
       "      <td>0.816190</td>\n",
       "      <td>0.545971</td>\n",
       "      <td>0.799968</td>\n",
       "    </tr>\n",
       "    <tr>\n",
       "      <th>toefl score</th>\n",
       "      <td>0.813091</td>\n",
       "      <td>1.000000</td>\n",
       "      <td>0.643663</td>\n",
       "      <td>0.644384</td>\n",
       "      <td>0.538830</td>\n",
       "      <td>0.803894</td>\n",
       "      <td>0.464678</td>\n",
       "      <td>0.786873</td>\n",
       "    </tr>\n",
       "    <tr>\n",
       "      <th>university rating</th>\n",
       "      <td>0.620704</td>\n",
       "      <td>0.643663</td>\n",
       "      <td>1.000000</td>\n",
       "      <td>0.712991</td>\n",
       "      <td>0.606291</td>\n",
       "      <td>0.696592</td>\n",
       "      <td>0.424429</td>\n",
       "      <td>0.680716</td>\n",
       "    </tr>\n",
       "    <tr>\n",
       "      <th>sop</th>\n",
       "      <td>0.606973</td>\n",
       "      <td>0.644384</td>\n",
       "      <td>0.712991</td>\n",
       "      <td>1.000000</td>\n",
       "      <td>0.663707</td>\n",
       "      <td>0.712154</td>\n",
       "      <td>0.408116</td>\n",
       "      <td>0.684137</td>\n",
       "    </tr>\n",
       "    <tr>\n",
       "      <th>lor</th>\n",
       "      <td>0.521241</td>\n",
       "      <td>0.538830</td>\n",
       "      <td>0.606291</td>\n",
       "      <td>0.663707</td>\n",
       "      <td>1.000000</td>\n",
       "      <td>0.637469</td>\n",
       "      <td>0.372526</td>\n",
       "      <td>0.645365</td>\n",
       "    </tr>\n",
       "    <tr>\n",
       "      <th>cgpa</th>\n",
       "      <td>0.816190</td>\n",
       "      <td>0.803894</td>\n",
       "      <td>0.696592</td>\n",
       "      <td>0.712154</td>\n",
       "      <td>0.637469</td>\n",
       "      <td>1.000000</td>\n",
       "      <td>0.501311</td>\n",
       "      <td>0.882413</td>\n",
       "    </tr>\n",
       "    <tr>\n",
       "      <th>research</th>\n",
       "      <td>0.545971</td>\n",
       "      <td>0.464678</td>\n",
       "      <td>0.424429</td>\n",
       "      <td>0.408116</td>\n",
       "      <td>0.372526</td>\n",
       "      <td>0.501311</td>\n",
       "      <td>1.000000</td>\n",
       "      <td>0.545871</td>\n",
       "    </tr>\n",
       "    <tr>\n",
       "      <th>Chance of Admit</th>\n",
       "      <td>0.799968</td>\n",
       "      <td>0.786873</td>\n",
       "      <td>0.680716</td>\n",
       "      <td>0.684137</td>\n",
       "      <td>0.645365</td>\n",
       "      <td>0.882413</td>\n",
       "      <td>0.545871</td>\n",
       "      <td>1.000000</td>\n",
       "    </tr>\n",
       "  </tbody>\n",
       "</table>\n",
       "</div>"
      ],
      "text/plain": [
       "                   gre score  toefl score  university rating       sop  \\\n",
       "gre score           1.000000     0.813091           0.620704  0.606973   \n",
       "toefl score         0.813091     1.000000           0.643663  0.644384   \n",
       "university rating   0.620704     0.643663           1.000000  0.712991   \n",
       "sop                 0.606973     0.644384           0.712991  1.000000   \n",
       "lor                 0.521241     0.538830           0.606291  0.663707   \n",
       "cgpa                0.816190     0.803894           0.696592  0.712154   \n",
       "research            0.545971     0.464678           0.424429  0.408116   \n",
       "Chance of Admit     0.799968     0.786873           0.680716  0.684137   \n",
       "\n",
       "                        lor      cgpa  research  Chance of Admit  \n",
       "gre score          0.521241  0.816190  0.545971         0.799968  \n",
       "toefl score        0.538830  0.803894  0.464678         0.786873  \n",
       "university rating  0.606291  0.696592  0.424429         0.680716  \n",
       "sop                0.663707  0.712154  0.408116         0.684137  \n",
       "lor                1.000000  0.637469  0.372526         0.645365  \n",
       "cgpa               0.637469  1.000000  0.501311         0.882413  \n",
       "research           0.372526  0.501311  1.000000         0.545871  \n",
       "Chance of Admit    0.645365  0.882413  0.545871         1.000000  "
      ]
     },
     "execution_count": 149,
     "metadata": {},
     "output_type": "execute_result"
    }
   ],
   "source": [
    "df.corr()"
   ]
  },
  {
   "cell_type": "markdown",
   "id": "909a2438",
   "metadata": {},
   "source": [
    "#### Checking MultiCollinearity between feature varaiables."
   ]
  },
  {
   "cell_type": "code",
   "execution_count": 150,
   "id": "549f4a77",
   "metadata": {},
   "outputs": [
    {
     "data": {
      "text/plain": [
       "<AxesSubplot:>"
      ]
     },
     "execution_count": 150,
     "metadata": {},
     "output_type": "execute_result"
    },
    {
     "data": {
      "image/png": "[encoded data removed]",
      "text/plain": [
       "<Figure size 432x288 with 2 Axes>"
      ]
     },
     "metadata": {
      "needs_background": "light"
     },
     "output_type": "display_data"
    }
   ],
   "source": [
    "sns.heatmap(df.corr(),cmap ='RdBu',annot = True)"
   ]
  },
  {
   "cell_type": "markdown",
   "id": "003f5a43",
   "metadata": {},
   "source": [
    "#### From the heatmap we can see that there is no  strong correlation between features, so there is no multicollinearity . "
   ]
  },
  {
   "cell_type": "code",
   "execution_count": 151,
   "id": "11415464",
   "metadata": {},
   "outputs": [
    {
     "data": {
      "image/png": "[encoded data removed]",
      "text/plain": [
       "<Figure size 1152x432 with 7 Axes>"
      ]
     },
     "metadata": {
      "needs_background": "light"
     },
     "output_type": "display_data"
    }
   ],
   "source": [
    "fig, (ax1, ax2, ax3,ax4,ax5,ax6,ax7) = plt.subplots(ncols= 7, figsize=(16,6))\n",
    "\n",
    "ax1.scatter(df['gre score'], df['Chance of Admit'])\n",
    "ax1.set_title(\"gre score Vs Chance of Admit \")\n",
    "\n",
    "ax2.scatter(df['toefl score'], df['Chance of Admit'])\n",
    "ax2.set_title(\"toefl score vs Chance of Admit \")\n",
    "\n",
    "ax3.scatter(df['university rating'], df['Chance of Admit'])\n",
    "ax3.set_title(\"university rating vs Chance of Admit\")\n",
    "\n",
    "ax4.scatter(df[\"sop\"],df[\"Chance of Admit\"])\n",
    "ax4.set_title(\"sop vs Chance of Admit\")\n",
    "\n",
    "ax5.scatter(df[\"lor\"],df[\"Chance of Admit\"])\n",
    "ax5.set_title(\"lor vs Chance of Admit\")\n",
    "\n",
    "ax6.scatter(df[\"cgpa\"],df[\"Chance of Admit\"])\n",
    "ax6.set_title(\"cgpa vs Chance of Admit\")\n",
    "\n",
    "ax7.scatter(df[\"research\"],df[\"Chance of Admit\"])\n",
    "ax7.set_title(\"research vs Chance of Admit\")\n",
    "\n",
    "\n",
    "plt.show()"
   ]
  },
  {
   "cell_type": "markdown",
   "id": "ac21fbb4",
   "metadata": {},
   "source": [
    "####  From the above graphs between the continuous feature variables and the label column, it can be concluded that they exhibit a linear relationship amongst them. So, we’ll use Linear regression for prediction."
   ]
  },
  {
   "cell_type": "markdown",
   "id": "91f8d77e",
   "metadata": {},
   "source": [
    "####  Now, we  will create separate Training and Test Data Sets ."
   ]
  },
  {
   "cell_type": "code",
   "execution_count": 152,
   "id": "3e87327d",
   "metadata": {},
   "outputs": [
    {
     "data": {
      "text/html": [
       "<div>\n",
       "<style scoped>\n",
       "    .dataframe tbody tr th:only-of-type {\n",
       "        vertical-align: middle;\n",
       "    }\n",
       "\n",
       "    .dataframe tbody tr th {\n",
       "        vertical-align: top;\n",
       "    }\n",
       "\n",
       "    .dataframe thead th {\n",
       "        text-align: right;\n",
       "    }\n",
       "</style>\n",
       "<table border=\"1\" class=\"dataframe\">\n",
       "  <thead>\n",
       "    <tr style=\"text-align: right;\">\n",
       "      <th></th>\n",
       "      <th>gre score</th>\n",
       "      <th>toefl score</th>\n",
       "      <th>university rating</th>\n",
       "      <th>sop</th>\n",
       "      <th>lor</th>\n",
       "      <th>cgpa</th>\n",
       "      <th>research</th>\n",
       "    </tr>\n",
       "  </thead>\n",
       "  <tbody>\n",
       "    <tr>\n",
       "      <th>0</th>\n",
       "      <td>337.0</td>\n",
       "      <td>118.0</td>\n",
       "      <td>4.0</td>\n",
       "      <td>4.5</td>\n",
       "      <td>4.5</td>\n",
       "      <td>9.65</td>\n",
       "      <td>1</td>\n",
       "    </tr>\n",
       "    <tr>\n",
       "      <th>1</th>\n",
       "      <td>324.0</td>\n",
       "      <td>107.0</td>\n",
       "      <td>4.0</td>\n",
       "      <td>4.0</td>\n",
       "      <td>4.5</td>\n",
       "      <td>8.87</td>\n",
       "      <td>1</td>\n",
       "    </tr>\n",
       "    <tr>\n",
       "      <th>2</th>\n",
       "      <td>312.0</td>\n",
       "      <td>104.0</td>\n",
       "      <td>3.0</td>\n",
       "      <td>3.0</td>\n",
       "      <td>3.5</td>\n",
       "      <td>8.00</td>\n",
       "      <td>1</td>\n",
       "    </tr>\n",
       "    <tr>\n",
       "      <th>3</th>\n",
       "      <td>322.0</td>\n",
       "      <td>110.0</td>\n",
       "      <td>3.0</td>\n",
       "      <td>3.5</td>\n",
       "      <td>2.5</td>\n",
       "      <td>8.67</td>\n",
       "      <td>1</td>\n",
       "    </tr>\n",
       "    <tr>\n",
       "      <th>4</th>\n",
       "      <td>314.0</td>\n",
       "      <td>103.0</td>\n",
       "      <td>2.0</td>\n",
       "      <td>2.0</td>\n",
       "      <td>3.0</td>\n",
       "      <td>8.21</td>\n",
       "      <td>0</td>\n",
       "    </tr>\n",
       "    <tr>\n",
       "      <th>...</th>\n",
       "      <td>...</td>\n",
       "      <td>...</td>\n",
       "      <td>...</td>\n",
       "      <td>...</td>\n",
       "      <td>...</td>\n",
       "      <td>...</td>\n",
       "      <td>...</td>\n",
       "    </tr>\n",
       "    <tr>\n",
       "      <th>495</th>\n",
       "      <td>332.0</td>\n",
       "      <td>108.0</td>\n",
       "      <td>5.0</td>\n",
       "      <td>4.5</td>\n",
       "      <td>4.0</td>\n",
       "      <td>9.02</td>\n",
       "      <td>1</td>\n",
       "    </tr>\n",
       "    <tr>\n",
       "      <th>496</th>\n",
       "      <td>337.0</td>\n",
       "      <td>117.0</td>\n",
       "      <td>5.0</td>\n",
       "      <td>5.0</td>\n",
       "      <td>5.0</td>\n",
       "      <td>9.87</td>\n",
       "      <td>1</td>\n",
       "    </tr>\n",
       "    <tr>\n",
       "      <th>497</th>\n",
       "      <td>330.0</td>\n",
       "      <td>120.0</td>\n",
       "      <td>5.0</td>\n",
       "      <td>4.5</td>\n",
       "      <td>5.0</td>\n",
       "      <td>9.56</td>\n",
       "      <td>1</td>\n",
       "    </tr>\n",
       "    <tr>\n",
       "      <th>498</th>\n",
       "      <td>312.0</td>\n",
       "      <td>103.0</td>\n",
       "      <td>4.0</td>\n",
       "      <td>4.0</td>\n",
       "      <td>5.0</td>\n",
       "      <td>8.43</td>\n",
       "      <td>0</td>\n",
       "    </tr>\n",
       "    <tr>\n",
       "      <th>499</th>\n",
       "      <td>327.0</td>\n",
       "      <td>113.0</td>\n",
       "      <td>4.0</td>\n",
       "      <td>4.5</td>\n",
       "      <td>4.5</td>\n",
       "      <td>9.04</td>\n",
       "      <td>0</td>\n",
       "    </tr>\n",
       "  </tbody>\n",
       "</table>\n",
       "<p>500 rows × 7 columns</p>\n",
       "</div>"
      ],
      "text/plain": [
       "     gre score  toefl score  university rating  sop  lor  cgpa  research\n",
       "0        337.0        118.0                4.0  4.5  4.5  9.65         1\n",
       "1        324.0        107.0                4.0  4.0  4.5  8.87         1\n",
       "2        312.0        104.0                3.0  3.0  3.5  8.00         1\n",
       "3        322.0        110.0                3.0  3.5  2.5  8.67         1\n",
       "4        314.0        103.0                2.0  2.0  3.0  8.21         0\n",
       "..         ...          ...                ...  ...  ...   ...       ...\n",
       "495      332.0        108.0                5.0  4.5  4.0  9.02         1\n",
       "496      337.0        117.0                5.0  5.0  5.0  9.87         1\n",
       "497      330.0        120.0                5.0  4.5  5.0  9.56         1\n",
       "498      312.0        103.0                4.0  4.0  5.0  8.43         0\n",
       "499      327.0        113.0                4.0  4.5  4.5  9.04         0\n",
       "\n",
       "[500 rows x 7 columns]"
      ]
     },
     "execution_count": 152,
     "metadata": {},
     "output_type": "execute_result"
    }
   ],
   "source": [
    "# dropping the 'Chance of Admit' as they are not going to be used as features for prediction\n",
    "X = df.drop(['Chance of Admit'],axis=1)\n",
    "X"
   ]
  },
  {
   "cell_type": "code",
   "execution_count": 154,
   "id": "c0d32da6",
   "metadata": {},
   "outputs": [],
   "source": [
    "# 'Chance of Admit' is the target column which shows the probability of a candidate getting admission.\n",
    "Y = df['Chance of Admit']"
   ]
  },
  {
   "cell_type": "code",
   "execution_count": 155,
   "id": "8ddd18a0",
   "metadata": {},
   "outputs": [],
   "source": [
    "from sklearn.preprocessing import StandardScaler\n",
    "scaler = StandardScaler()"
   ]
  },
  {
   "cell_type": "code",
   "execution_count": 156,
   "id": "545bffde",
   "metadata": {},
   "outputs": [
    {
     "data": {
      "text/plain": [
       "array([[ 1.85052822,  1.77547686,  0.77890565, ...,  1.09894429,\n",
       "         1.77680627,  0.88640526],\n",
       "       [ 0.68147064, -0.04027672,  0.77890565, ...,  1.09894429,\n",
       "         0.48585943,  0.88640526],\n",
       "       [-0.39765943, -0.53548224, -0.1078766 , ...,  0.01730621,\n",
       "        -0.95404281,  0.88640526],\n",
       "       ...,\n",
       "       [ 1.22103568,  2.10561387,  1.66568791, ...,  1.63976333,\n",
       "         1.62785086,  0.88640526],\n",
       "       [-0.39765943, -0.70055074,  0.77890565, ...,  1.63976333,\n",
       "        -0.24236699, -1.12815215],\n",
       "       [ 0.95125316,  0.95013432,  0.77890565, ...,  1.09894429,\n",
       "         0.76721964, -1.12815215]])"
      ]
     },
     "execution_count": 156,
     "metadata": {},
     "output_type": "execute_result"
    }
   ],
   "source": [
    "scaler.fit_transform(X)"
   ]
  },
  {
   "cell_type": "code",
   "execution_count": 157,
   "id": "889d68ed",
   "metadata": {},
   "outputs": [
    {
     "name": "stdout",
     "output_type": "stream",
     "text": [
      "The shape of X is:(500, 7)\n"
     ]
    }
   ],
   "source": [
    "print(f\"The shape of X is:{X.shape}\")"
   ]
  },
  {
   "cell_type": "code",
   "execution_count": 158,
   "id": "99737d72",
   "metadata": {},
   "outputs": [
    {
     "name": "stdout",
     "output_type": "stream",
     "text": [
      "The shape of Y is (500,)\n"
     ]
    }
   ],
   "source": [
    "print(f\"The shape of Y is {Y.shape}\")"
   ]
  },
  {
   "cell_type": "code",
   "execution_count": 159,
   "id": "0906754e",
   "metadata": {},
   "outputs": [],
   "source": [
    "# splitting the data into training and testing sets\n",
    "from sklearn.model_selection import train_test_split\n",
    "X_test,X_train,Y_test,Y_train = train_test_split(X,Y,random_state = 0 ,test_size = 0.33)\n"
   ]
  },
  {
   "cell_type": "code",
   "execution_count": 160,
   "id": "844e830a",
   "metadata": {},
   "outputs": [
    {
     "data": {
      "text/plain": [
       "(165, 7)"
      ]
     },
     "execution_count": 160,
     "metadata": {},
     "output_type": "execute_result"
    }
   ],
   "source": [
    "X_train.shape"
   ]
  },
  {
   "cell_type": "code",
   "execution_count": 161,
   "id": "26da2853",
   "metadata": {},
   "outputs": [
    {
     "data": {
      "text/plain": [
       "(335, 7)"
      ]
     },
     "execution_count": 161,
     "metadata": {},
     "output_type": "execute_result"
    }
   ],
   "source": [
    "X_test.shape"
   ]
  },
  {
   "cell_type": "code",
   "execution_count": 162,
   "id": "7b59f896",
   "metadata": {},
   "outputs": [
    {
     "data": {
      "text/plain": [
       "(335,)"
      ]
     },
     "execution_count": 162,
     "metadata": {},
     "output_type": "execute_result"
    }
   ],
   "source": [
    "Y_test.shape"
   ]
  },
  {
   "cell_type": "code",
   "execution_count": 163,
   "id": "5dd5484d",
   "metadata": {},
   "outputs": [
    {
     "data": {
      "text/plain": [
       "(165,)"
      ]
     },
     "execution_count": 163,
     "metadata": {},
     "output_type": "execute_result"
    }
   ],
   "source": [
    "Y_train.shape"
   ]
  },
  {
   "cell_type": "code",
   "execution_count": 164,
   "id": "5913fe23",
   "metadata": {},
   "outputs": [],
   "source": [
    "from sklearn.linear_model import LinearRegression,Ridge,Lasso,LassoCV"
   ]
  },
  {
   "cell_type": "code",
   "execution_count": 165,
   "id": "8416773c",
   "metadata": {},
   "outputs": [],
   "source": [
    "lr = LinearRegression()"
   ]
  },
  {
   "cell_type": "code",
   "execution_count": 166,
   "id": "54a82f1c",
   "metadata": {},
   "outputs": [
    {
     "data": {
      "text/plain": [
       "LinearRegression()"
      ]
     },
     "execution_count": 166,
     "metadata": {},
     "output_type": "execute_result"
    }
   ],
   "source": [
    "lr.fit(X_train,Y_train)"
   ]
  },
  {
   "cell_type": "code",
   "execution_count": 167,
   "id": "b526cca3",
   "metadata": {},
   "outputs": [
    {
     "data": {
      "text/html": [
       "<div>\n",
       "<style scoped>\n",
       "    .dataframe tbody tr th:only-of-type {\n",
       "        vertical-align: middle;\n",
       "    }\n",
       "\n",
       "    .dataframe tbody tr th {\n",
       "        vertical-align: top;\n",
       "    }\n",
       "\n",
       "    .dataframe thead th {\n",
       "        text-align: right;\n",
       "    }\n",
       "</style>\n",
       "<table border=\"1\" class=\"dataframe\">\n",
       "  <thead>\n",
       "    <tr style=\"text-align: right;\">\n",
       "      <th></th>\n",
       "      <th>gre score</th>\n",
       "      <th>toefl score</th>\n",
       "      <th>university rating</th>\n",
       "      <th>sop</th>\n",
       "      <th>lor</th>\n",
       "      <th>cgpa</th>\n",
       "      <th>research</th>\n",
       "    </tr>\n",
       "  </thead>\n",
       "  <tbody>\n",
       "    <tr>\n",
       "      <th>81</th>\n",
       "      <td>340.0</td>\n",
       "      <td>120.0</td>\n",
       "      <td>4.0</td>\n",
       "      <td>5.0</td>\n",
       "      <td>5.0</td>\n",
       "      <td>9.50</td>\n",
       "      <td>1</td>\n",
       "    </tr>\n",
       "    <tr>\n",
       "      <th>401</th>\n",
       "      <td>315.0</td>\n",
       "      <td>105.0</td>\n",
       "      <td>2.0</td>\n",
       "      <td>3.0</td>\n",
       "      <td>3.0</td>\n",
       "      <td>8.34</td>\n",
       "      <td>0</td>\n",
       "    </tr>\n",
       "    <tr>\n",
       "      <th>302</th>\n",
       "      <td>322.0</td>\n",
       "      <td>105.0</td>\n",
       "      <td>2.0</td>\n",
       "      <td>3.0</td>\n",
       "      <td>3.0</td>\n",
       "      <td>8.45</td>\n",
       "      <td>1</td>\n",
       "    </tr>\n",
       "    <tr>\n",
       "      <th>499</th>\n",
       "      <td>327.0</td>\n",
       "      <td>113.0</td>\n",
       "      <td>4.0</td>\n",
       "      <td>4.5</td>\n",
       "      <td>4.5</td>\n",
       "      <td>9.04</td>\n",
       "      <td>0</td>\n",
       "    </tr>\n",
       "    <tr>\n",
       "      <th>471</th>\n",
       "      <td>311.0</td>\n",
       "      <td>103.0</td>\n",
       "      <td>3.0</td>\n",
       "      <td>2.0</td>\n",
       "      <td>4.0</td>\n",
       "      <td>8.09</td>\n",
       "      <td>0</td>\n",
       "    </tr>\n",
       "    <tr>\n",
       "      <th>...</th>\n",
       "      <td>...</td>\n",
       "      <td>...</td>\n",
       "      <td>...</td>\n",
       "      <td>...</td>\n",
       "      <td>...</td>\n",
       "      <td>...</td>\n",
       "      <td>...</td>\n",
       "    </tr>\n",
       "    <tr>\n",
       "      <th>323</th>\n",
       "      <td>305.0</td>\n",
       "      <td>102.0</td>\n",
       "      <td>2.0</td>\n",
       "      <td>2.0</td>\n",
       "      <td>2.5</td>\n",
       "      <td>8.18</td>\n",
       "      <td>0</td>\n",
       "    </tr>\n",
       "    <tr>\n",
       "      <th>192</th>\n",
       "      <td>322.0</td>\n",
       "      <td>114.0</td>\n",
       "      <td>5.0</td>\n",
       "      <td>4.5</td>\n",
       "      <td>4.0</td>\n",
       "      <td>8.94</td>\n",
       "      <td>1</td>\n",
       "    </tr>\n",
       "    <tr>\n",
       "      <th>117</th>\n",
       "      <td>290.0</td>\n",
       "      <td>104.0</td>\n",
       "      <td>4.0</td>\n",
       "      <td>2.0</td>\n",
       "      <td>2.5</td>\n",
       "      <td>7.46</td>\n",
       "      <td>0</td>\n",
       "    </tr>\n",
       "    <tr>\n",
       "      <th>47</th>\n",
       "      <td>339.0</td>\n",
       "      <td>119.0</td>\n",
       "      <td>5.0</td>\n",
       "      <td>4.5</td>\n",
       "      <td>4.0</td>\n",
       "      <td>9.70</td>\n",
       "      <td>0</td>\n",
       "    </tr>\n",
       "    <tr>\n",
       "      <th>172</th>\n",
       "      <td>322.0</td>\n",
       "      <td>110.0</td>\n",
       "      <td>4.0</td>\n",
       "      <td>4.0</td>\n",
       "      <td>5.0</td>\n",
       "      <td>9.13</td>\n",
       "      <td>1</td>\n",
       "    </tr>\n",
       "  </tbody>\n",
       "</table>\n",
       "<p>335 rows × 7 columns</p>\n",
       "</div>"
      ],
      "text/plain": [
       "     gre score  toefl score  university rating  sop  lor  cgpa  research\n",
       "81       340.0        120.0                4.0  5.0  5.0  9.50         1\n",
       "401      315.0        105.0                2.0  3.0  3.0  8.34         0\n",
       "302      322.0        105.0                2.0  3.0  3.0  8.45         1\n",
       "499      327.0        113.0                4.0  4.5  4.5  9.04         0\n",
       "471      311.0        103.0                3.0  2.0  4.0  8.09         0\n",
       "..         ...          ...                ...  ...  ...   ...       ...\n",
       "323      305.0        102.0                2.0  2.0  2.5  8.18         0\n",
       "192      322.0        114.0                5.0  4.5  4.0  8.94         1\n",
       "117      290.0        104.0                4.0  2.0  2.5  7.46         0\n",
       "47       339.0        119.0                5.0  4.5  4.0  9.70         0\n",
       "172      322.0        110.0                4.0  4.0  5.0  9.13         1\n",
       "\n",
       "[335 rows x 7 columns]"
      ]
     },
     "execution_count": 167,
     "metadata": {},
     "output_type": "execute_result"
    }
   ],
   "source": [
    "X_test"
   ]
  },
  {
   "cell_type": "code",
   "execution_count": 168,
   "id": "de74923a",
   "metadata": {},
   "outputs": [
    {
     "data": {
      "text/plain": [
       "81     0.96\n",
       "401    0.66\n",
       "302    0.65\n",
       "499    0.84\n",
       "471    0.64\n",
       "       ... \n",
       "323    0.62\n",
       "192    0.86\n",
       "117    0.45\n",
       "47     0.89\n",
       "172    0.86\n",
       "Name: Chance of Admit, Length: 335, dtype: float64"
      ]
     },
     "execution_count": 168,
     "metadata": {},
     "output_type": "execute_result"
    }
   ],
   "source": [
    "Y_test"
   ]
  },
  {
   "cell_type": "code",
   "execution_count": 169,
   "id": "34e5637d",
   "metadata": {},
   "outputs": [
    {
     "data": {
      "text/plain": [
       "array([0.53177763])"
      ]
     },
     "execution_count": 169,
     "metadata": {},
     "output_type": "execute_result"
    }
   ],
   "source": [
    "lr.predict([[295.0,99.0,2.0,2.5,3.0,7.65,0]])"
   ]
  },
  {
   "cell_type": "code",
   "execution_count": 170,
   "id": "bc891206",
   "metadata": {},
   "outputs": [
    {
     "data": {
      "text/plain": [
       "array([0.00064518, 0.0040717 , 0.00043581, 0.01461567, 0.01216731,\n",
       "       0.11157567, 0.0403015 ])"
      ]
     },
     "execution_count": 170,
     "metadata": {},
     "output_type": "execute_result"
    }
   ],
   "source": [
    "lr.coef_"
   ]
  },
  {
   "cell_type": "code",
   "execution_count": 171,
   "id": "cbb6e31e",
   "metadata": {},
   "outputs": [
    {
     "data": {
      "text/plain": [
       "-0.9891144768192365"
      ]
     },
     "execution_count": 171,
     "metadata": {},
     "output_type": "execute_result"
    }
   ],
   "source": [
    "lr.intercept_"
   ]
  },
  {
   "cell_type": "code",
   "execution_count": 172,
   "id": "ed838a69",
   "metadata": {},
   "outputs": [],
   "source": [
    "y_prediction=lr.predict(X_test)\n",
    "x_prediction=lr.predict(X_train)"
   ]
  },
  {
   "cell_type": "code",
   "execution_count": 173,
   "id": "3a263145",
   "metadata": {},
   "outputs": [],
   "source": [
    "from sklearn.metrics import mean_absolute_error,mean_squared_error,r2_score"
   ]
  },
  {
   "cell_type": "code",
   "execution_count": 174,
   "id": "d1ed0205",
   "metadata": {},
   "outputs": [
    {
     "name": "stdout",
     "output_type": "stream",
     "text": [
      "mae is 0.04250214046055023\n"
     ]
    }
   ],
   "source": [
    "print(f\"mae is {mean_absolute_error(Y_test,y_prediction)}\")"
   ]
  },
  {
   "cell_type": "code",
   "execution_count": 175,
   "id": "81674595",
   "metadata": {},
   "outputs": [
    {
     "name": "stdout",
     "output_type": "stream",
     "text": [
      "mse is 0.003633472528605158\n"
     ]
    }
   ],
   "source": [
    "print(f\"mse is {mean_squared_error(Y_test,y_prediction)}\")"
   ]
  },
  {
   "cell_type": "code",
   "execution_count": 176,
   "id": "93ea4d32",
   "metadata": {},
   "outputs": [
    {
     "name": "stdout",
     "output_type": "stream",
     "text": [
      "r2_score of test set is 0.8243754178220322\n"
     ]
    }
   ],
   "source": [
    "print(f\"r2_score of test set is {r2_score(Y_test,y_prediction)}\")"
   ]
  },
  {
   "cell_type": "code",
   "execution_count": 177,
   "id": "f0a96415",
   "metadata": {},
   "outputs": [
    {
     "data": {
      "text/plain": [
       "0.8243754178220322"
      ]
     },
     "execution_count": 177,
     "metadata": {},
     "output_type": "execute_result"
    }
   ],
   "source": [
    "r2 = lr.score(X_test,Y_test)\n",
    "r2"
   ]
  },
  {
   "cell_type": "code",
   "execution_count": 178,
   "id": "e5f95561",
   "metadata": {},
   "outputs": [
    {
     "data": {
      "text/plain": [
       "(335, 7)"
      ]
     },
     "execution_count": 178,
     "metadata": {},
     "output_type": "execute_result"
    }
   ],
   "source": [
    "X_test.shape"
   ]
  },
  {
   "cell_type": "code",
   "execution_count": 179,
   "id": "d0ab37ae",
   "metadata": {},
   "outputs": [],
   "source": [
    "def adj_r2(X,Y):\n",
    "    r2 = lr.score(X_test,Y_test)\n",
    "    n = X.shape[0]\n",
    "    p = X.shape[1]\n",
    "    adjusted_r2 = 1-((1-r2)*(n-1)/(n-p-1))"
   ]
  },
  {
   "cell_type": "code",
   "execution_count": 180,
   "id": "9d89574f",
   "metadata": {},
   "outputs": [
    {
     "data": {
      "text/plain": [
       "Ridge()"
      ]
     },
     "execution_count": 180,
     "metadata": {},
     "output_type": "execute_result"
    }
   ],
   "source": [
    "rid = Ridge(alpha=1.0)\n",
    "rid.fit(X_train, Y_train)\n",
    "Ridge()"
   ]
  },
  {
   "cell_type": "code",
   "execution_count": 181,
   "id": "31ca819f",
   "metadata": {},
   "outputs": [
    {
     "data": {
      "text/plain": [
       "array([0.53282403])"
      ]
     },
     "execution_count": 181,
     "metadata": {},
     "output_type": "execute_result"
    }
   ],
   "source": [
    "rid.predict([[295.0,99.0,2.0,2.5,3.0,7.65,0]])"
   ]
  },
  {
   "cell_type": "code",
   "execution_count": 182,
   "id": "22715dce",
   "metadata": {},
   "outputs": [],
   "source": [
    "Y_pred = rid.predict(X_test)"
   ]
  },
  {
   "cell_type": "code",
   "execution_count": 183,
   "id": "f805c164",
   "metadata": {},
   "outputs": [
    {
     "name": "stdout",
     "output_type": "stream",
     "text": [
      "r2 Score of test set : 0.8235983788260414\n"
     ]
    }
   ],
   "source": [
    "print(f\"r2 Score of test set : {r2_score(Y_test, Y_pred)}\")\n"
   ]
  },
  {
   "cell_type": "code",
   "execution_count": 184,
   "id": "11547583",
   "metadata": {},
   "outputs": [
    {
     "data": {
      "text/plain": [
       "array([0.00080707, 0.00425108, 0.00092994, 0.01556947, 0.01262873,\n",
       "       0.10409864, 0.03896233])"
      ]
     },
     "execution_count": 184,
     "metadata": {},
     "output_type": "execute_result"
    }
   ],
   "source": [
    "rid.coef_"
   ]
  },
  {
   "cell_type": "code",
   "execution_count": 185,
   "id": "4f0ecd20",
   "metadata": {},
   "outputs": [
    {
     "data": {
      "text/plain": [
       "-1.0011424235076536"
      ]
     },
     "execution_count": 185,
     "metadata": {},
     "output_type": "execute_result"
    }
   ],
   "source": [
    "rid.intercept_"
   ]
  },
  {
   "cell_type": "code",
   "execution_count": 186,
   "id": "2fe11c88",
   "metadata": {},
   "outputs": [
    {
     "name": "stdout",
     "output_type": "stream",
     "text": [
      "mae is 0.04267654783666333\n"
     ]
    }
   ],
   "source": [
    "print(f\"mae is {mean_absolute_error(Y_test,Y_pred)}\")"
   ]
  },
  {
   "cell_type": "code",
   "execution_count": 187,
   "id": "cd10e1ba",
   "metadata": {},
   "outputs": [
    {
     "name": "stdout",
     "output_type": "stream",
     "text": [
      "mse is 0.003649548580206673\n"
     ]
    }
   ],
   "source": [
    "print(f\"mse is {mean_squared_error(Y_test,Y_pred)}\")"
   ]
  },
  {
   "cell_type": "code",
   "execution_count": 188,
   "id": "7e992c92",
   "metadata": {},
   "outputs": [
    {
     "data": {
      "text/plain": [
       "82.35983788260414"
      ]
     },
     "execution_count": 188,
     "metadata": {},
     "output_type": "execute_result"
    }
   ],
   "source": [
    "rid.score(X_test, Y_test)*100"
   ]
  },
  {
   "cell_type": "code",
   "execution_count": 189,
   "id": "1bb2204c",
   "metadata": {},
   "outputs": [],
   "source": [
    "lassocv = LassoCV(alphas = None,cv = 5,max_iter= 200000,normalize = True)"
   ]
  },
  {
   "cell_type": "code",
   "execution_count": 190,
   "id": "7f259f01",
   "metadata": {},
   "outputs": [
    {
     "data": {
      "text/plain": [
       "LassoCV(cv=5, max_iter=200000, normalize=True)"
      ]
     },
     "execution_count": 190,
     "metadata": {},
     "output_type": "execute_result"
    }
   ],
   "source": [
    "lassocv.fit(X_train,Y_train)"
   ]
  },
  {
   "cell_type": "code",
   "execution_count": 191,
   "id": "ed4e17a3",
   "metadata": {},
   "outputs": [
    {
     "data": {
      "text/plain": [
       "8.252252936438653e-05"
      ]
     },
     "execution_count": 191,
     "metadata": {},
     "output_type": "execute_result"
    }
   ],
   "source": [
    "lassocv.alpha_"
   ]
  },
  {
   "cell_type": "code",
   "execution_count": 192,
   "id": "0b368ae7",
   "metadata": {},
   "outputs": [
    {
     "data": {
      "text/plain": [
       "Lasso(alpha=8.252252936438653e-05)"
      ]
     },
     "execution_count": 192,
     "metadata": {},
     "output_type": "execute_result"
    }
   ],
   "source": [
    "lasso = Lasso(alpha=lassocv.alpha_)\n",
    "lasso.fit(X_train,Y_train)"
   ]
  },
  {
   "cell_type": "code",
   "execution_count": 193,
   "id": "d1f1711c",
   "metadata": {},
   "outputs": [
    {
     "data": {
      "text/plain": [
       "82.44797931957135"
      ]
     },
     "execution_count": 193,
     "metadata": {},
     "output_type": "execute_result"
    }
   ],
   "source": [
    "lasso.score(X_test,Y_test)*100"
   ]
  },
  {
   "cell_type": "markdown",
   "id": "5390d20c",
   "metadata": {},
   "source": [
    "#### CONCLUSION :\n",
    "#### We got a accuracy of around 83 % using Linear Regression and 81 % by other models.\n",
    "####  Accuracy  is the maximum from Linear Regression Model so we will use this model."
   ]
  },
  {
   "cell_type": "code",
   "execution_count": 194,
   "id": "543d444c",
   "metadata": {},
   "outputs": [],
   "source": [
    "import pickle"
   ]
  },
  {
   "cell_type": "code",
   "execution_count": 195,
   "id": "a8fea01a",
   "metadata": {},
   "outputs": [],
   "source": [
    "file = 'scaler.pkl'\n",
    "pickle.dump(scaler,open(file,'wb'))"
   ]
  },
  {
   "cell_type": "code",
   "execution_count": 196,
   "id": "0ff11f15",
   "metadata": {},
   "outputs": [],
   "source": [
    "filename = 'Admission.Predictor_model.pkl'\n",
    "pickle.dump(lr, open(filename, 'wb'))"
   ]
  },
  {
   "cell_type": "code",
   "execution_count": 197,
   "id": "57c9bdd0",
   "metadata": {},
   "outputs": [
    {
     "name": "stdout",
     "output_type": "stream",
     "text": [
      "0.9980983345189979\n"
     ]
    }
   ],
   "source": [
    "loaded_model = pickle.load(open(filename, 'rb'))\n",
    "prediction=loaded_model.predict(([[320,120,5,5,5,10,1]]))\n",
    "print(prediction[0])"
   ]
  },
  {
   "cell_type": "markdown",
   "id": "0e5a8860",
   "metadata": {},
   "source": [
    "#### With the given input, our model predicts that the chance of admission is 99 per cent.Now, the model is ready for cloud deployment.\n"
   ]
  },
  {
   "cell_type": "code",
   "execution_count": 198,
   "id": "e6dc66c0",
   "metadata": {},
   "outputs": [],
   "source": [
    "loaded = pickle.load(open(file,'rb'))"
   ]
  },
  {
   "cell_type": "code",
   "execution_count": 199,
   "id": "1f16b1bc",
   "metadata": {},
   "outputs": [],
   "source": [
    "scaled = loaded.transform([[320,120,5,5,5,10,1]])"
   ]
  },
  {
   "cell_type": "code",
   "execution_count": 200,
   "id": "ecacaf90",
   "metadata": {},
   "outputs": [
    {
     "data": {
      "text/plain": [
       "array([[0.32176062, 2.10561387, 1.66568791, 1.64240413, 1.63976333,\n",
       "        2.35607728, 0.88640526]])"
      ]
     },
     "execution_count": 200,
     "metadata": {},
     "output_type": "execute_result"
    }
   ],
   "source": [
    "scaled"
   ]
  }
 ],
 "metadata": {
  "kernelspec": {
   "display_name": "Python 3 (ipykernel)",
   "language": "python",
   "name": "python3"
  },
  "language_info": {
   "codemirror_mode": {
    "name": "ipython",
    "version": 3
   },
   "file_extension": ".py",
   "mimetype": "text/x-python",
   "name": "python",
   "nbconvert_exporter": "python",
   "pygments_lexer": "ipython3",
   "version": "3.9.7"
  }
 },
 "nbformat": 4,
 "nbformat_minor": 5
}
